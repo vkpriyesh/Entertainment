{
 "cells": [
  {
   "cell_type": "code",
   "execution_count": null,
   "id": "72320800-3ba6-4bee-acd3-8209503e4b24",
   "metadata": {},
   "outputs": [],
   "source": [
    "pip install moviepy"
   ]
  },
  {
   "cell_type": "code",
   "execution_count": null,
   "id": "3e013687-4ac1-4c34-aa0b-f31aa4ca201f",
   "metadata": {},
   "outputs": [],
   "source": [
    "from google.colab import files\n",
    "import shutil\n",
    "import os\n",
    "from moviepy.editor import *\n",
    "\n",
    "# Upload the video and image files\n",
    "uploaded = files.upload() \n",
    "\n",
    "# Move uploaded files to a specific directory (optional)\n",
    "# Create directories if they don't exist\n",
    "if not os.path.exists('/content/videos'):\n",
    "  os.makedirs('/content/videos')\n",
    "if not os.path.exists('/content/images'):\n",
    "  os.makedirs('/content/images')\n",
    "\n",
    "for filename in uploaded.keys():\n",
    "  # Move files to their respective directories\n",
    "  if filename.lower().endswith(('.jpg', '.jpeg', '.png')):  # Check if it's an image\n",
    "    shutil.move(filename, '/content/images/' + filename) \n",
    "  else:  # Assuming it's a video\n",
    "    shutil.move(filename, '/content/videos/' + filename) \n",
    "\n",
    "# === File Paths (use raw strings or double backslashes) ===\n",
    "# Updated paths for Google Colab (assuming files are in /content/images and /content/videos)\n",
    "image_files = [\n",
    "    \"/content/images/WhatsApp Image 2025-05-13 at 23.04.41_caf19205.jpg\",  # Update path\n",
    "    \"/content/images/WhatsApp Image 2025-05-13 at 23.06.06_ab89f7b0.jpg\",  # Update path\n",
    "    \"/content/images/WhatsApp Image 2025-05-13 at 23.08.00_af95a019.jpg\",  # Update path\n",
    "    \"/content/images/WhatsApp Image 2025-05-13 at 23.10.31_b93394d8.jpg\"   # Update path\n",
    "]\n",
    "\n",
    "video_files = [\n",
    "    \"/content/videos/WhatsApp Video 2025-05-13 at 23.18.56_f60a0d92.mp4\",  # Update path\n",
    "    \"/content/videos/WhatsApp Video 2025-05-13 at 23.23.13_43fa8008.mp4\"   # Update path\n",
    "]\n",
    "\n",
    "\n",
    "# === Load Images as Clips ===\n",
    "image_clips = [\n",
    "    ImageClip(img).set_duration(3).resize(height=1080) for img in image_files\n",
    "]\n",
    "\n",
    "# === Load Videos, Trim, Resize ===\n",
    "video_clips = []\n",
    "for vfile in video_files:\n",
    "    clip = VideoFileClip(vfile)\n",
    "    trimmed = clip.subclip(0, min(5, clip.duration))\n",
    "    video_clips.append(trimmed)\n",
    "\n",
    "# === Combine Clips ===\n",
    "all_clips = image_clips + video_clips + [image_clips[0]]  # add first image as outro\n",
    "final_clip = concatenate_videoclips(all_clips, method=\"compose\")\n",
    "\n",
    "# === Export Final Video ===\n",
    "# Updated output path for Google Colab\n",
    "final_clip.write_videofile(\"/content/Singapore_Trip_Reel.mp4\", fps=24, codec=\"libx264\", audio_codec=\"aac\")"
   ]
  }
 ],
 "metadata": {
  "kernelspec": {
   "display_name": "Python 3 (ipykernel)",
   "language": "python",
   "name": "python3"
  },
  "language_info": {
   "codemirror_mode": {
    "name": "ipython",
    "version": 3
   },
   "file_extension": ".py",
   "mimetype": "text/x-python",
   "name": "python",
   "nbconvert_exporter": "python",
   "pygments_lexer": "ipython3",
   "version": "3.11.11"
  }
 },
 "nbformat": 4,
 "nbformat_minor": 5
}
